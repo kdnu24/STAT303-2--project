{
 "cells": [
  {
   "cell_type": "raw",
   "id": "33dd6c4c",
   "metadata": {},
   "source": [
    "---\n",
    "title: \"Project proposal\"\n",
    "format: \n",
    "  html:\n",
    "    toc: true\n",
    "    toc-title: Contents\n",
    "    code-fold: show\n",
    "    self-contained: true\n",
    "jupyter: python3\n",
    "---"
   ]
  },
  {
   "cell_type": "markdown",
   "id": "0116f49b",
   "metadata": {},
   "source": [
    "## Instructions {-}\n",
    "\n",
    "1. Please answer the following questions as part of your project proposal.\n",
    "\n",
    "2. Write your answers in the *Markdown* cells of the Jupyter notebook. You don't need to write any code, but if you want to, you may use the *Code* cells.\n",
    "\n",
    "3. Use [Quarto](https://quarto.org/docs/output-formats/html-basics.html) to print the *.ipynb* file as HTML. You will need to open the command prompt, navigate to the directory containing the file, and use the command: `quarto render filename.ipynb --to html`. Submit the HTML file.\n",
    "\n",
    "4. The project proposal is worth 8 points, and is due on **27th January 2023 at 11:59 pm**. \n",
    "\n",
    "5. You must make one submission as a group, and not individually.\n",
    "\n",
    "6. Each team member must have at least **one commit** on the team's github repository. No points will be awarded to the team member(s) with no commits.\n",
    "\n",
    "7. Share the link of your project's GitHub repository [here](https://docs.google.com/spreadsheets/d/1khao3unpj_vsx4kOSg_Zzo77YK1UWL2w73Oa0aAirOo/edit#gid=0)."
   ]
  },
  {
   "cell_type": "markdown",
   "id": "fe7ea9bb",
   "metadata": {},
   "source": [
    "# 1) Team name\n",
    "Mention your team name.\n",
    "\n",
    "*(0 points)*"
   ]
  },
  {
   "cell_type": "markdown",
   "id": "48dde879",
   "metadata": {},
   "source": [
    "AACK"
   ]
  },
  {
   "cell_type": "markdown",
   "id": "16fccc9b",
   "metadata": {},
   "source": [
    "# 2) Member names\n",
    "Mention the names of your team members.\n",
    "\n",
    "*(0 points)*"
   ]
  },
  {
   "cell_type": "markdown",
   "id": "4e2e4e8e",
   "metadata": {},
   "source": [
    "Catherine Erickson, Karrine Denisova, Ally Bardas, Annabel Skubisz"
   ]
  },
  {
   "cell_type": "markdown",
   "id": "220a6528",
   "metadata": {},
   "source": [
    "# 3) Link to the GitHub repository\n",
    "Share the link of the team's project repository on GitHub.\n",
    "\n",
    "Also, put the link of your project's GitHub repository [here](https://docs.google.com/spreadsheets/d/1khao3unpj_vsx4kOSg_Zzo77YK1UWL2w73Oa0aAirOo/edit#gid=0).\n",
    "\n",
    "We believe there is no harm in having other teams view your GitHub repository. However, if you don't want anyone to see your team's work, you may make the repository *Private* and add your instructor and graduate TA as *Colloborators* in it.\n",
    "\n",
    "*(0 points)*"
   ]
  },
  {
   "cell_type": "markdown",
   "id": "5ca10ef6",
   "metadata": {},
   "source": [
    "https://github.com/kdnu24/STAT303-2--project.git"
   ]
  },
  {
   "cell_type": "markdown",
   "id": "16c1a490",
   "metadata": {},
   "source": [
    "# 4) Topic\n",
    "Mention the topic of your course project.\n",
    "\n",
    "*(0.25 points)*"
   ]
  },
  {
   "cell_type": "markdown",
   "id": "bdbf8183",
   "metadata": {},
   "source": [
    "We are going to analyze the heart rate data from the Varsity Field Hockey team at Northwestern. We are going to analyze different variables of the data to see if they can predict game wins and losses."
   ]
  },
  {
   "cell_type": "markdown",
   "id": "9403cdfb",
   "metadata": {},
   "source": [
    "# 5) Problem statement\n",
    "Explain the problem statement. The problem statement must include:\n",
    "\n",
    "1. The problem\n",
    "\n",
    "2. Is it a regression or classification problem or a combination of both?\n",
    "\n",
    "3. Is it an inference or prediction problem or a combination of both?\n",
    "\n",
    "4. How will you assess model accuracy?\n",
    "\n",
    "  - If it is a classification problem, then which measure(s) will you optimize for your model – precision, recall, false negative rate (FNR), accuracy, ROC-AUC etc., and why?\n",
    "  - If it is a regression problem, then which measure(s) will you optimize for your model – RMSE (Root mean squared error), MAE (mean absolute error), maximum absolute error etc., and why?\n",
    "\n",
    "5. What techniques do you think you may need to use to improve your model? If you have too many variables, some of which are  correlated or collinear, you may need to do variable selection *(techniques for variable selection that you will learn later in the course - stepwise regression, lasso, ridge regression)*. If the variables do not have a linear relationship with the response, or if some of the modeling assumptions are not satisfied, you may need to transform the predictors and/or the response (variable transformation) to obtain a better fit.\n",
    "\n",
    "*(5 points)*"
   ]
  },
  {
   "cell_type": "markdown",
   "id": "638d9516",
   "metadata": {},
   "source": [
    "1. Data analytics is very prominent in the current world of sports. While there is a great deal of data on male athletes, there is far less on female athletes and on professional female athletics. We want to be able to determine the likelihood of a win based on heart rate data taken during practice to enable better coaching tactics during practices.\n",
    "2. This is a classification problem because we would like to determine whether the team will win or lose (distinctive results) based on continuous data.\n",
    "3. This is a prediction problem because we are trying to determine the outcome of events based on the data we currently have. \n",
    "4. We will use the false negative rate to optimize our data. To discover the false negative rate, we can apply our regression to previous data in which we have win and loss outcomes.\n",
    "5. This data will require variable selection. Many of the data points build off of each other (heart rate will be correlated with calories burned and high-speed distance, for example). We will need to determine which variables pertain to the conclusions we wish to draw."
   ]
  },
  {
   "cell_type": "markdown",
   "id": "3eb2d4f2",
   "metadata": {},
   "source": [
    "# 6) Data sources\n",
    "\n",
    "What data sources will you use, and how will the data help answer the questions? Explain.\n",
    "\n",
    "If the data is open source, share the link of the data.\n",
    "\n",
    "*(1 point)*"
   ]
  },
  {
   "cell_type": "markdown",
   "id": "34776288",
   "metadata": {},
   "source": [
    "The strength and conditioning coach of the Northwestern Field Hockey team provided it. This data has all of the variables including heart rate, wins and losses, length of training, calories burned, distance traveled, away or home game, and many more variables. \n",
    "\n",
    "Not open source - from the athletic trainer\n"
   ]
  },
  {
   "cell_type": "markdown",
   "id": "cb8a845f",
   "metadata": {},
   "source": [
    "# 7) Stakeholders"
   ]
  },
  {
   "cell_type": "markdown",
   "id": "d39c782c",
   "metadata": {},
   "source": [
    "Who are the stakeholders, and how will your project benefit them? Explain.\n",
    "\n",
    "*(1 point)*"
   ]
  },
  {
   "cell_type": "markdown",
   "id": "98a6698e",
   "metadata": {},
   "source": [
    "Our stakeholders are the Northwestern field hockey coaches. This project will help them determine the optimal conditions for practice in order to win games. By finding which variables have the highest correlation with wins, the coaches will be able to target these heart rates or speed or distance run etc during practice.\n",
    "Additionally, sports sponsors and field hockey sponsors can benefit from the results of this data as it will lead to more games won with the deeper understanding of the predictors that contribute to the game. \n",
    "\n",
    "Athletes themselves are stakeholders, because understanding training load and predictors to win allow athletes to peak at right time and not overwork in areas not necessary, reducing injury and overload. \n"
   ]
  },
  {
   "cell_type": "markdown",
   "id": "57e41b2a",
   "metadata": {},
   "source": [
    "# 8) Results\n",
    "What kind of results do you expect? \n",
    "\n",
    "How much accuracy is required / desired in your model (based on the metric(s) chosen in question 5), such that it is useful to the stakeholders and why?\n",
    "\n",
    "**Hint:** If it is a classification model, then your model must be at least better than random classification. If it is a regression model, then your model must be at least better than trivial models, such as the one with only the intercept term.\n",
    "\n",
    "*(0.5 point)*"
   ]
  },
  {
   "cell_type": "markdown",
   "id": "f3f44e35",
   "metadata": {},
   "source": [
    "We expect the results to vary positionally–a goalie for example will not run as much as a midfielder. However, we have lower heart rates to be associated with games won by large margins, and the highest heart rates in tighter games.  \n",
    "\n",
    "The model has to be more accurate than 50%, but we acknowledge that team sports may be less accurate than individual sport. Many not-measurable variables such as team chemistry and how the athletes use their individual skills for the group will also be put into play when a game is won or lost, and these variables are not ones we can measure using this model. \n"
   ]
  },
  {
   "cell_type": "markdown",
   "id": "0c874b4f",
   "metadata": {},
   "source": [
    "# 9) Work-split\n",
    "How do you plan to split the project work amongst individual team members?\n",
    "\n",
    "*(0.25 point)*"
   ]
  },
  {
   "cell_type": "markdown",
   "id": "fbb032d8",
   "metadata": {},
   "source": [
    "We plan to split the work evenly and communicate clearly when the project is being reuploaded to GitHub. We will have members work on different aspects of the data, some focusing on heart rate and others focusing on distance, max speed, number of accelerations etc.\n"
   ]
  }
 ],
 "metadata": {
  "kernelspec": {
   "display_name": "Python 3 (ipykernel)",
   "language": "python",
   "name": "python3"
  },
  "language_info": {
   "codemirror_mode": {
    "name": "ipython",
    "version": 3
   },
   "file_extension": ".py",
   "mimetype": "text/x-python",
   "name": "python",
   "nbconvert_exporter": "python",
   "pygments_lexer": "ipython3",
   "version": "3.9.12"
  }
 },
 "nbformat": 4,
 "nbformat_minor": 5
}
